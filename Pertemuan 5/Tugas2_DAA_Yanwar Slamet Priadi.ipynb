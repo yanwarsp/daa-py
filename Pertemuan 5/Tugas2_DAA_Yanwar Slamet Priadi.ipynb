{
 "cells": [
  {
   "cell_type": "markdown",
   "metadata": {},
   "source": [
    "### KASUS : MERGESORT\n",
    "Urutkan deret bilangan acak di atas menggunakan\n",
    "metode mergesort yang mengakomodir algoritma devideand-conquer!\n",
    "\n",
    "21 5 9 16 30 7"
   ]
  },
  {
   "cell_type": "code",
   "execution_count": 30,
   "metadata": {},
   "outputs": [],
   "source": [
    "def merge(arr, l, m, r): \n",
    "    n1 = m - l + 1\n",
    "    n2 = r- m \n",
    "    L = [0] * (n1) \n",
    "    R = [0] * (n2) \n",
    "    for i in range(0 , n1): \n",
    "        L[i] = arr[l + i] \n",
    "    for j in range(0 , n2): \n",
    "        R[j] = arr[m + 1 + j] \n",
    "    i = 0    \n",
    "    j = 0      \n",
    "    k = l     \n",
    "    while i < n1 and j < n2 : \n",
    "        if L[i] <= R[j]: \n",
    "            arr[k] = L[i] \n",
    "            i += 1\n",
    "        else: \n",
    "            arr[k] = R[j] \n",
    "            j += 1\n",
    "        k += 1\n",
    "    while i < n1: \n",
    "        arr[k] = L[i] \n",
    "        i += 1\n",
    "        k += 1\n",
    "    while j < n2: \n",
    "        arr[k] = R[j] \n",
    "        j += 1\n",
    "        k += 1"
   ]
  },
  {
   "cell_type": "code",
   "execution_count": 31,
   "metadata": {},
   "outputs": [],
   "source": [
    "def mergeSort(arr,l,r): \n",
    "    if l < r: \n",
    "        m = (l+(r-1))//2\n",
    "        mergeSort(arr, l, m) \n",
    "        mergeSort(arr, m+1, r) \n",
    "        merge(arr, l, m, r) "
   ]
  },
  {
   "cell_type": "code",
   "execution_count": 32,
   "metadata": {},
   "outputs": [
    {
     "name": "stdout",
     "output_type": "stream",
     "text": [
      "Nilai awal\n",
      "21\n",
      "5\n",
      "9\n",
      "16\n",
      "30\n",
      "7\n",
      "\n",
      "\n",
      "Setelah diurutkan\n",
      "5\n",
      "7\n",
      "9\n",
      "16\n",
      "21\n",
      "30\n"
     ]
    }
   ],
   "source": [
    "arr = [21, 5, 9, 16, 30, 7] \n",
    "n = len(arr) \n",
    "print (\"Nilai awal\") \n",
    "for i in range(n): \n",
    "    print (\"%d\" %arr[i]), \n",
    "mergeSort(arr,0,n-1) \n",
    "print (\"\\n\\nSetelah diurutkan\") \n",
    "for i in range(n): \n",
    "    print (\"%d\" %arr[i]),"
   ]
  },
  {
   "cell_type": "markdown",
   "metadata": {},
   "source": [
    "### KASUS : QUICKSHORT\n",
    "Urutkan deret bilangan di bawah\n",
    "ini menggunakan metode quicksort!\n",
    "\n",
    "17 12 57 8 16 25"
   ]
  },
  {
   "cell_type": "code",
   "execution_count": 33,
   "metadata": {},
   "outputs": [],
   "source": [
    "def partition(arr, low, high):\n",
    "    i = (low-1)         \n",
    "    pivot = arr[high]     \n",
    "    for j in range(low, high):\n",
    "        if arr[j] <= pivot:\n",
    "            i = i+1\n",
    "            arr[i], arr[j] = arr[j], arr[i]\n",
    "    arr[i+1], arr[high] = arr[high], arr[i+1]\n",
    "    return (i+1)"
   ]
  },
  {
   "cell_type": "code",
   "execution_count": 34,
   "metadata": {},
   "outputs": [],
   "source": [
    "def quickSort(arr, low, high):\n",
    "    if len(arr) == 1:\n",
    "        return arr\n",
    "    if low < high:\n",
    "        pi = partition(arr, low, high)\n",
    "        quickSort(arr, low, pi-1)\n",
    "        quickSort(arr, pi+1, high)"
   ]
  },
  {
   "cell_type": "code",
   "execution_count": 35,
   "metadata": {},
   "outputs": [
    {
     "name": "stdout",
     "output_type": "stream",
     "text": [
      "Nilai awal\n",
      "17\n",
      "12\n",
      "57\n",
      "8\n",
      "16\n",
      "25\n",
      "Sorted array is:\n",
      "8\n",
      "12\n",
      "16\n",
      "17\n",
      "25\n",
      "57\n"
     ]
    }
   ],
   "source": [
    "arr = [17, 12, 57, 8, 16, 25]\n",
    "n = len(arr)\n",
    "print (\"Nilai awal\") \n",
    "for i in range(n): \n",
    "    print (\"%d\" %arr[i]), \n",
    "quickSort(arr, 0, n-1)\n",
    "print(\"Sorted array is:\")\n",
    "for i in range(n):\n",
    "    print(\"%d\" % arr[i]),"
   ]
  }
 ],
 "metadata": {
  "kernelspec": {
   "display_name": "Python 3",
   "language": "python",
   "name": "python3"
  },
  "language_info": {
   "codemirror_mode": {
    "name": "ipython",
    "version": 3
   },
   "file_extension": ".py",
   "mimetype": "text/x-python",
   "name": "python",
   "nbconvert_exporter": "python",
   "pygments_lexer": "ipython3",
   "version": "3.8.3"
  }
 },
 "nbformat": 4,
 "nbformat_minor": 4
}
